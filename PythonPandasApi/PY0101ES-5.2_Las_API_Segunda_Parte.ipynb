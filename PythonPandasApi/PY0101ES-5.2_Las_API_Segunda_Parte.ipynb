{
 "cells": [
  {
   "cell_type": "markdown",
   "metadata": {},
   "source": [
    "<a href=\"https://cognitiveclass.ai/?utm_medium=Exinfluencer&utm_source=Exinfluencer&utm_content=000026UJ&utm_term=10006555&utm_id=NA-SkillsNetwork-Channel-SkillsNetworkCoursesIBMPY0101ESCoursera33499022-2022-01-01\">\n",
    "    <img src=\"https://s3-api.us-geo.objectstorage.softlayer.net/cf-courses-data/CognitiveClass/PY0101EN/Ad/CCLog.png\" width=\"200\" align=\"center\">\n",
    "</a>\n",
    "\n",
    "<h1 align=\"center\"><font size=\"5\"><b>Interfaz de programación de aplicaciones</b></font></h1>\n"
   ]
  },
  {
   "cell_type": "markdown",
   "metadata": {},
   "source": [
    "<p>En este cuaderno aprenderás a convertir un archivo de audio hablado en inglés a texto usando una API de Voz a Texto. Después traducirás la versión en inglés al español usando una API para traducir. <b>Observación:</b> Debes obtener las API Keys para completar el laboratorio.</p>\n"
   ]
  },
  {
   "cell_type": "markdown",
   "metadata": {},
   "source": [
    "<div class=\"alert alert-block alert-info\" style=\"margin-top: 20px\">\n",
    "<h2>Tabla de Contenido</h2>\n",
    "<ul>\n",
    "    <li><a href=\"https://#ref0\">Convertir Voz a Texto</a></li>\n",
    "    <li><a href=\"https://#ref1\">Traductor de Idiomas</a></li>\n",
    "    <li><a href=\"https://#ref2\">Ejercicios</a></li>\n",
    "</ul>\n",
    "<br>\n",
    "<p>Tiempo Estimado: <strong>25 min</strong></p>\n",
    "</div>\n"
   ]
  },
  {
   "cell_type": "code",
   "execution_count": 31,
   "metadata": {
    "collapsed": false,
    "jupyter": {
     "outputs_hidden": false
    }
   },
   "outputs": [
    {
     "name": "stdout",
     "output_type": "stream",
     "text": [
      "Requirement already satisfied: ibm_watson in c:\\users\\yoich\\appdata\\local\\programs\\python\\python310\\lib\\site-packages (6.1.0)\n",
      "Requirement already satisfied: wget in c:\\users\\yoich\\appdata\\local\\programs\\python\\python310\\lib\\site-packages (3.2)\n",
      "Requirement already satisfied: python-dateutil>=2.5.3 in c:\\users\\yoich\\appdata\\local\\programs\\python\\python310\\lib\\site-packages (from ibm_watson) (2.8.2)\n",
      "Requirement already satisfied: websocket-client==1.1.0 in c:\\users\\yoich\\appdata\\local\\programs\\python\\python310\\lib\\site-packages (from ibm_watson) (1.1.0)\n",
      "Requirement already satisfied: ibm-cloud-sdk-core==3.*,>=3.3.6 in c:\\users\\yoich\\appdata\\local\\programs\\python\\python310\\lib\\site-packages (from ibm_watson) (3.16.1)\n",
      "Requirement already satisfied: requests<3.0,>=2.0 in c:\\users\\yoich\\appdata\\local\\programs\\python\\python310\\lib\\site-packages (from ibm_watson) (2.28.1)\n",
      "Requirement already satisfied: PyJWT<3.0.0,>=2.4.0 in c:\\users\\yoich\\appdata\\local\\programs\\python\\python310\\lib\\site-packages (from ibm-cloud-sdk-core==3.*,>=3.3.6->ibm_watson) (2.6.0)\n",
      "Requirement already satisfied: urllib3<2.0.0,>=1.26.0 in c:\\users\\yoich\\appdata\\local\\programs\\python\\python310\\lib\\site-packages (from ibm-cloud-sdk-core==3.*,>=3.3.6->ibm_watson) (1.26.13)\n",
      "Requirement already satisfied: six>=1.5 in c:\\users\\yoich\\appdata\\local\\programs\\python\\python310\\lib\\site-packages (from python-dateutil>=2.5.3->ibm_watson) (1.16.0)\n",
      "Requirement already satisfied: idna<4,>=2.5 in c:\\users\\yoich\\appdata\\local\\programs\\python\\python310\\lib\\site-packages (from requests<3.0,>=2.0->ibm_watson) (3.4)\n",
      "Requirement already satisfied: certifi>=2017.4.17 in c:\\users\\yoich\\appdata\\local\\programs\\python\\python310\\lib\\site-packages (from requests<3.0,>=2.0->ibm_watson) (2022.12.7)\n",
      "Requirement already satisfied: charset-normalizer<3,>=2 in c:\\users\\yoich\\appdata\\local\\programs\\python\\python310\\lib\\site-packages (from requests<3.0,>=2.0->ibm_watson) (2.1.1)\n"
     ]
    }
   ],
   "source": [
    "# Necesitarás la siguiente librería\n",
    "!pip install ibm_watson wget"
   ]
  },
  {
   "cell_type": "markdown",
   "metadata": {},
   "source": [
    "<h2 id=\"ref0\">Convertir Voz a Texto</h2>\n"
   ]
  },
  {
   "cell_type": "markdown",
   "metadata": {},
   "source": [
    "<p>Primero vamos a importar <code>SpeechToTextV1</code> desde <code>ibm_watson</code>. Para mas información sobre la API, por favor visita este <a href=\"https://cloud.ibm.com/apidocs/speech-to-text?utm_medium=Exinfluencer&utm_source=Exinfluencer&utm_content=000026UJ&utm_term=10006555&utm_id=NA-SkillsNetwork-Channel-SkillsNetworkCoursesIBMPY0101ESCoursera33499022-2022-01-01&code=python\">enlace</a></p>\n"
   ]
  },
  {
   "cell_type": "code",
   "execution_count": 32,
   "metadata": {
    "collapsed": false,
    "jupyter": {
     "outputs_hidden": false
    }
   },
   "outputs": [],
   "source": [
    "from ibm_watson import SpeechToTextV1 \n",
    "import json\n",
    "from ibm_cloud_sdk_core.authenticators import IAMAuthenticator"
   ]
  },
  {
   "cell_type": "markdown",
   "metadata": {},
   "source": [
    "<p>El endpoint del servicio esta basado en la ubicación de la instancia, nosotros guardaremos la información en la URL. Para averiguar cual URL usar, revisa los permisos del servicio.</p>\n"
   ]
  },
  {
   "cell_type": "code",
   "execution_count": 33,
   "metadata": {},
   "outputs": [],
   "source": [
    "url_s2t = \"https://api.au-syd.text-to-speech.watson.cloud.ibm.com/instances/4fb6ddaa-f764-41c6-97e3-2e3af7c530fb\""
   ]
  },
  {
   "cell_type": "markdown",
   "metadata": {},
   "source": [
    "<p>Necesitas una API KEY, puedes obtenerla <a href=\"https://cloud.ibm.com/resources?utm_medium=Exinfluencer&utm_source=Exinfluencer&utm_content=000026UJ&utm_term=10006555&utm_id=NA-SkillsNetwork-Channel-SkillsNetworkCoursesIBMPY0101ESCoursera33499022-2022-01-01\">Aquí </a>.</p>\n"
   ]
  },
  {
   "cell_type": "code",
   "execution_count": 34,
   "metadata": {
    "collapsed": false,
    "jupyter": {
     "outputs_hidden": false
    }
   },
   "outputs": [],
   "source": [
    "iam_apikey_s2t = \"4eZcdTLB-_FsPNu-IPhRQ1D-EgvC_msRxw8-3OURrDll\""
   ]
  },
  {
   "cell_type": "markdown",
   "metadata": {},
   "source": [
    "<p>Creas un <a href=\"http://watson-developer-cloud.github.io/python-sdk/v0.25.0/apis/watson_developer_cloud.speech_to_text_v1.html?utm_medium=Exinfluencer&utm_source=Exinfluencer&utm_content=000026UJ&utm_term=10006555&utm_id=NA-SkillsNetwork-Channel-SkillsNetworkCoursesIBMPY0101ESCoursera33499022-2022-01-01\">Objeto Speech To Text Adapter</a>. Los parámetros serán el endpoint de la API KEY</p>\n"
   ]
  },
  {
   "cell_type": "code",
   "execution_count": 53,
   "metadata": {},
   "outputs": [
    {
     "data": {
      "text/plain": [
       "<ibm_watson.speech_to_text_v1_adapter.SpeechToTextV1Adapter at 0x29b8a155780>"
      ]
     },
     "execution_count": 53,
     "metadata": {},
     "output_type": "execute_result"
    }
   ],
   "source": [
    "authenticator = IAMAuthenticator(iam_apikey_s2t)\n",
    "s2t = SpeechToTextV1(authenticator=authenticator)\n",
    "s2t.set_service_url(url_s2t)\n",
    "s2t"
   ]
  },
  {
   "cell_type": "markdown",
   "metadata": {},
   "source": [
    "<p>Vamos a descargar el archivo de audio que usaremos para convertir en texto.</p>\n"
   ]
  },
  {
   "cell_type": "code",
   "execution_count": 43,
   "metadata": {},
   "outputs": [
    {
     "name": "stderr",
     "output_type": "stream",
     "text": [
      "--2023-01-13 14:50:43--  https://s3-api.us-geo.objectstorage.softlayer.net/cf-courses-data/CognitiveClass/PY0101EN/labs/PolynomialRegressionandPipelines.mp3\n",
      "Resolving s3-api.us-geo.objectstorage.softlayer.net (s3-api.us-geo.objectstorage.softlayer.net)... 67.228.254.196\n",
      "Connecting to s3-api.us-geo.objectstorage.softlayer.net (s3-api.us-geo.objectstorage.softlayer.net)|67.228.254.196|:443... connected.\n",
      "HTTP request sent, awaiting response... 200 OK\n",
      "Length: 4234179 (4,0M) [audio/mpeg]\n",
      "Saving to: 'PolynomialRegressionandPipelines.mp3'\n",
      "\n",
      "     0K .......... .......... .......... .......... ..........  1%  232K 18s\n",
      "    50K .......... .......... .......... .......... ..........  2% 3,54M 9s\n",
      "   100K .......... .......... .......... .......... ..........  3%  458K 9s\n",
      "   150K .......... .......... .......... .......... ..........  4%  458K 9s\n",
      "   200K .......... .......... .......... .......... ..........  6% 13,7M 7s\n",
      "   250K .......... .......... .......... .......... ..........  7%  428K 7s\n",
      "   300K .......... .......... .......... .......... ..........  8% 24,1M 6s\n",
      "   350K .......... .......... .......... .......... ..........  9%  454K 6s\n",
      "   400K .......... .......... .......... .......... .......... 10% 3,78M 6s\n",
      "   450K .......... .......... .......... .......... .......... 12%  556K 6s\n",
      "   500K .......... .......... .......... .......... .......... 13% 5,70M 5s\n",
      "   550K .......... .......... .......... .......... .......... 14% 4,11M 5s\n",
      "   600K .......... .......... .......... .......... .......... 15% 9,11M 4s\n",
      "   650K .......... .......... .......... .......... .......... 16%  543K 4s\n",
      "   700K .......... .......... .......... .......... .......... 18% 4,24M 4s\n",
      "   750K .......... .......... .......... .......... .......... 19% 4,65M 4s\n",
      "   800K .......... .......... .......... .......... .......... 20% 3,54M 4s\n",
      "   850K .......... .......... .......... .......... .......... 21%  838K 4s\n",
      "   900K .......... .......... .......... .......... .......... 22% 1,09M 3s\n",
      "   950K .......... .......... .......... .......... .......... 24% 1,91M 3s\n",
      "  1000K .......... .......... .......... .......... .......... 25% 8,09M 3s\n",
      "  1050K .......... .......... .......... .......... .......... 26% 6,59M 3s\n",
      "  1100K .......... .......... .......... .......... .......... 27% 7,53M 3s\n",
      "  1150K .......... .......... .......... .......... .......... 29% 2,64M 3s\n",
      "  1200K .......... .......... .......... .......... .......... 30% 1,12M 3s\n",
      "  1250K .......... .......... .......... .......... .......... 31% 3,77M 3s\n",
      "  1300K .......... .......... .......... .......... .......... 32% 2,50M 2s\n",
      "  1350K .......... .......... .......... .......... .......... 33% 4,09M 2s\n",
      "  1400K .......... .......... .......... .......... .......... 35% 4,13M 2s\n",
      "  1450K .......... .......... .......... .......... .......... 36% 7,23M 2s\n",
      "  1500K .......... .......... .......... .......... .......... 37% 5,36M 2s\n",
      "  1550K .......... .......... .......... .......... .......... 38% 3,77M 2s\n",
      "  1600K .......... .......... .......... .......... .......... 39% 1,50M 2s\n",
      "  1650K .......... .......... .......... .......... .......... 41% 2,90M 2s\n",
      "  1700K .......... .......... .......... .......... .......... 42% 6,65M 2s\n",
      "  1750K .......... .......... .......... .......... .......... 43% 4,58M 2s\n",
      "  1800K .......... .......... .......... .......... .......... 44% 5,61M 2s\n",
      "  1850K .......... .......... .......... .......... .......... 45% 5,89M 2s\n",
      "  1900K .......... .......... .......... .......... .......... 47% 4,58M 1s\n",
      "  1950K .......... .......... .......... .......... .......... 48% 9,59M 1s\n",
      "  2000K .......... .......... .......... .......... .......... 49% 3,02M 1s\n",
      "  2050K .......... .......... .......... .......... .......... 50% 13,0M 1s\n",
      "  2100K .......... .......... .......... .......... .......... 51% 1,68M 1s\n",
      "  2150K .......... .......... .......... .......... .......... 53% 5,87M 1s\n",
      "  2200K .......... .......... .......... .......... .......... 54% 5,87M 1s\n",
      "  2250K .......... .......... .......... .......... .......... 55% 12,8M 1s\n",
      "  2300K .......... .......... .......... .......... .......... 56% 3,40M 1s\n",
      "  2350K .......... .......... .......... .......... .......... 58% 8,06M 1s\n",
      "  2400K .......... .......... .......... .......... .......... 59% 2,97M 1s\n",
      "  2450K .......... .......... .......... .......... .......... 60% 3,41M 1s\n",
      "  2500K .......... .......... .......... .......... .......... 61% 8,16M 1s\n",
      "  2550K .......... .......... .......... .......... .......... 62% 3,82M 1s\n",
      "  2600K .......... .......... .......... .......... .......... 64% 3,72M 1s\n",
      "  2650K .......... .......... .......... .......... .......... 65% 11,9M 1s\n",
      "  2700K .......... .......... .......... .......... .......... 66% 5,01M 1s\n",
      "  2750K .......... .......... .......... .......... .......... 67% 8,56M 1s\n",
      "  2800K .......... .......... .......... .......... .......... 68% 5,26M 1s\n",
      "  2850K .......... .......... .......... .......... .......... 70% 12,8M 1s\n",
      "  2900K .......... .......... .......... .......... .......... 71% 2,97M 1s\n",
      "  2950K .......... .......... .......... .......... .......... 72%  705K 1s\n",
      "  3000K .......... .......... .......... .......... .......... 73% 10,5M 1s\n",
      "  3050K .......... .......... .......... .......... .......... 74% 5,91M 1s\n",
      "  3100K .......... .......... .......... .......... .......... 76% 2,94M 1s\n",
      "  3150K .......... .......... .......... .......... .......... 77% 6,39M 0s\n",
      "  3200K .......... .......... .......... .......... .......... 78% 7,79M 0s\n",
      "  3250K .......... .......... .......... .......... .......... 79% 35,5M 0s\n",
      "  3300K .......... .......... .......... .......... .......... 81% 4,68M 0s\n",
      "  3350K .......... .......... .......... .......... .......... 82% 4,80M 0s\n",
      "  3400K .......... .......... .......... .......... .......... 83% 2,98M 0s\n",
      "  3450K .......... .......... .......... .......... .......... 84% 8,69M 0s\n",
      "  3500K .......... .......... .......... .......... .......... 85% 7,94M 0s\n",
      "  3550K .......... .......... .......... .......... .......... 87% 6,16M 0s\n",
      "  3600K .......... .......... .......... .......... .......... 88% 6,07M 0s\n",
      "  3650K .......... .......... .......... .......... .......... 89% 4,25M 0s\n",
      "  3700K .......... .......... .......... .......... .......... 90% 4,06M 0s\n",
      "  3750K .......... .......... .......... .......... .......... 91%  867K 0s\n",
      "  3800K .......... .......... .......... .......... .......... 93% 6,36M 0s\n",
      "  3850K .......... .......... .......... .......... .......... 94% 8,04M 0s\n",
      "  3900K .......... .......... .......... .......... .......... 95% 5,45M 0s\n",
      "  3950K .......... .......... .......... .......... .......... 96% 13,1M 0s\n",
      "  4000K .......... .......... .......... .......... .......... 97% 11,1M 0s\n",
      "  4050K .......... .......... .......... .......... .......... 99% 3,77M 0s\n",
      "  4100K .......... .......... .......... ....                 100% 73,5M=1,8s\n",
      "\n",
      "2023-01-13 14:50:46 (2,19 MB/s) - 'PolynomialRegressionandPipelines.mp3' saved [4234179/4234179]\n",
      "\n"
     ]
    }
   ],
   "source": [
    "!wget -O PolynomialRegressionandPipelines.mp3  https://s3-api.us-geo.objectstorage.softlayer.net/cf-courses-data/CognitiveClass/PY0101EN/labs/PolynomialRegressionandPipelines.mp3\n",
    "\n"
   ]
  },
  {
   "cell_type": "markdown",
   "metadata": {},
   "source": [
    "<p>Tenemos la ruta al archivo wav que queremos convertir en texto</p>\n"
   ]
  },
  {
   "cell_type": "code",
   "execution_count": 54,
   "metadata": {
    "collapsed": false,
    "jupyter": {
     "outputs_hidden": false
    }
   },
   "outputs": [],
   "source": [
    "filename='C:/Users/yoich/Desktop/Ciencia de Datos2022/Python para Data Science y AI/PolynomialRegressionandPipelines.mp3'"
   ]
  },
  {
   "cell_type": "markdown",
   "metadata": {},
   "source": [
    "<p>Creamos el objeto <code>wav</code> con el archivo wav usando <code>open</code> ; configuramos <code>mode</code> a “rb”, esto es parecido al modo lectura y asegura que el archivo esta en modo binario. Usamos el método <code>recognize</code> que regresa el texto reconocido. El parámetro audio es el objeto <code>wav</code>, el parámetro <code>content_type</code> es el formato del archivo de audio.</p>\n"
   ]
  },
  {
   "cell_type": "code",
   "execution_count": 55,
   "metadata": {},
   "outputs": [
    {
     "ename": "SyntaxError",
     "evalue": "expected ':' (1324171203.py, line 1)",
     "output_type": "error",
     "traceback": [
      "\u001b[1;36m  Input \u001b[1;32mIn [55]\u001b[1;36m\u001b[0m\n\u001b[1;33m    with open(filename,mode=\"rb\") as wav\u001b[0m\n\u001b[1;37m                                        ^\u001b[0m\n\u001b[1;31mSyntaxError\u001b[0m\u001b[1;31m:\u001b[0m expected ':'\n"
     ]
    }
   ],
   "source": [
    "with open(filename,mode=\"rb\") as wav"
   ]
  },
  {
   "cell_type": "markdown",
   "metadata": {},
   "source": [
    "<p>El atributo “result” contiene un diccionario que incluye la traducción:</p>\n"
   ]
  },
  {
   "cell_type": "code",
   "execution_count": 49,
   "metadata": {},
   "outputs": [
    {
     "ename": "NameError",
     "evalue": "name 'response' is not defined",
     "output_type": "error",
     "traceback": [
      "\u001b[1;31m---------------------------------------------------------------------------\u001b[0m",
      "\u001b[1;31mNameError\u001b[0m                                 Traceback (most recent call last)",
      "\u001b[1;32mc:\\Users\\yoich\\Desktop\\Ciencia de Datos2022\\Python para Data Science y AI\\PythonPandasApi\\PY0101ES-5.2_Las_API_Segunda_Parte.ipynb Celda 21\u001b[0m in \u001b[0;36m<cell line: 1>\u001b[1;34m()\u001b[0m\n\u001b[1;32m----> <a href='vscode-notebook-cell:/c%3A/Users/yoich/Desktop/Ciencia%20de%20Datos2022/Python%20para%20Data%20Science%20y%20AI/PythonPandasApi/PY0101ES-5.2_Las_API_Segunda_Parte.ipynb#X26sZmlsZQ%3D%3D?line=0'>1</a>\u001b[0m response\u001b[39m.\u001b[39mresult\n",
      "\u001b[1;31mNameError\u001b[0m: name 'response' is not defined"
     ]
    }
   ],
   "source": [
    "response.result"
   ]
  },
  {
   "cell_type": "code",
   "execution_count": 50,
   "metadata": {},
   "outputs": [
    {
     "ename": "NameError",
     "evalue": "name 'response' is not defined",
     "output_type": "error",
     "traceback": [
      "\u001b[1;31m---------------------------------------------------------------------------\u001b[0m",
      "\u001b[1;31mNameError\u001b[0m                                 Traceback (most recent call last)",
      "\u001b[1;32mc:\\Users\\yoich\\Desktop\\Ciencia de Datos2022\\Python para Data Science y AI\\PythonPandasApi\\PY0101ES-5.2_Las_API_Segunda_Parte.ipynb Celda 22\u001b[0m in \u001b[0;36m<cell line: 3>\u001b[1;34m()\u001b[0m\n\u001b[0;32m      <a href='vscode-notebook-cell:/c%3A/Users/yoich/Desktop/Ciencia%20de%20Datos2022/Python%20para%20Data%20Science%20y%20AI/PythonPandasApi/PY0101ES-5.2_Las_API_Segunda_Parte.ipynb#X30sZmlsZQ%3D%3D?line=0'>1</a>\u001b[0m \u001b[39mfrom\u001b[39;00m \u001b[39mpandas\u001b[39;00m\u001b[39m.\u001b[39;00m\u001b[39mio\u001b[39;00m\u001b[39m.\u001b[39;00m\u001b[39mjson\u001b[39;00m \u001b[39mimport\u001b[39;00m json_normalize\n\u001b[1;32m----> <a href='vscode-notebook-cell:/c%3A/Users/yoich/Desktop/Ciencia%20de%20Datos2022/Python%20para%20Data%20Science%20y%20AI/PythonPandasApi/PY0101ES-5.2_Las_API_Segunda_Parte.ipynb#X30sZmlsZQ%3D%3D?line=2'>3</a>\u001b[0m json_normalize(response\u001b[39m.\u001b[39mresult[\u001b[39m'\u001b[39m\u001b[39mresults\u001b[39m\u001b[39m'\u001b[39m],\u001b[39m\"\u001b[39m\u001b[39malternatives\u001b[39m\u001b[39m\"\u001b[39m)\n",
      "\u001b[1;31mNameError\u001b[0m: name 'response' is not defined"
     ]
    }
   ],
   "source": [
    "from pandas.io.json import json_normalize\n",
    "\n",
    "json_normalize(response.result['results'],\"alternatives\")"
   ]
  },
  {
   "cell_type": "code",
   "execution_count": null,
   "metadata": {},
   "outputs": [],
   "source": [
    "response"
   ]
  },
  {
   "cell_type": "markdown",
   "metadata": {},
   "source": [
    "<p>Obtenemos el texto reconocido y los asignamos a la variable <code>recognized_text</code>:</p>\n"
   ]
  },
  {
   "cell_type": "code",
   "execution_count": null,
   "metadata": {
    "collapsed": false,
    "jupyter": {
     "outputs_hidden": false
    }
   },
   "outputs": [],
   "source": [
    "recognized_text=response.result['results'][0][\"alternatives\"][0][\"transcript\"]\n",
    "type(recognized_text)"
   ]
  },
  {
   "cell_type": "markdown",
   "metadata": {},
   "source": [
    "<h2 id=\"ref1\">Traductor de Idiomas</h2>\n"
   ]
  },
  {
   "cell_type": "markdown",
   "metadata": {},
   "source": [
    "<p>Primero importamos <code>LanguageTranslatorV3</code> desde ibm_watson. Para mas información sobre la API, por favor visita este <a href=\"https://cloud.ibm.com/apidocs/speech-to-text?utm_medium=Exinfluencer&utm_source=Exinfluencer&utm_content=000026UJ&utm_term=10006555&utm_id=NA-SkillsNetwork-Channel-SkillsNetworkCoursesIBMPY0101ESCoursera33499022-2022-01-01&code=python\">enlace</a></p>\n"
   ]
  },
  {
   "cell_type": "code",
   "execution_count": null,
   "metadata": {},
   "outputs": [],
   "source": [
    "from ibm_watson import LanguageTranslatorV3"
   ]
  },
  {
   "cell_type": "markdown",
   "metadata": {},
   "source": [
    "<p>El endpoint del servicio esta basado en la ubicación de la instancia, nosotros guardaremos la información en la URL. Para averiguar cual URL usar, revisa los permisos del servicio.</p>\n"
   ]
  },
  {
   "cell_type": "code",
   "execution_count": null,
   "metadata": {
    "collapsed": false,
    "jupyter": {
     "outputs_hidden": false
    }
   },
   "outputs": [],
   "source": [
    "url_lt='https://gateway.watsonplatform.net/language-translator/api'"
   ]
  },
  {
   "cell_type": "markdown",
   "metadata": {},
   "source": [
    "<p>Necesitas una API KEY, puedes obtenerla <a href=\"https://cloud.ibm.com/resources?utm_medium=Exinfluencer&utm_source=Exinfluencer&utm_content=000026UJ&utm_term=10006555&utm_id=NA-SkillsNetwork-Channel-SkillsNetworkCoursesIBMPY0101ESCoursera33499022-2022-01-01\">Aquí </a>.</p>\n"
   ]
  },
  {
   "cell_type": "code",
   "execution_count": null,
   "metadata": {
    "collapsed": false,
    "jupyter": {
     "outputs_hidden": false
    }
   },
   "outputs": [],
   "source": [
    "apikey_lt=''"
   ]
  },
  {
   "cell_type": "markdown",
   "metadata": {},
   "source": [
    "<p>Las solicitudes a la API requieren un parámetro de la versión que tiene formato = YYYY-MM-DD. Este laboratorio trabaja con la versión actual de Language Translator, 2018-05-01</p>\n"
   ]
  },
  {
   "cell_type": "code",
   "execution_count": null,
   "metadata": {
    "collapsed": false,
    "jupyter": {
     "outputs_hidden": false
    }
   },
   "outputs": [],
   "source": [
    "version_lt='2018-05-01'"
   ]
  },
  {
   "cell_type": "markdown",
   "metadata": {},
   "source": [
    "<p>Creamos un objeto tipo Language Translator <code>language_translator</code>:</p>\n"
   ]
  },
  {
   "cell_type": "code",
   "execution_count": null,
   "metadata": {
    "collapsed": false,
    "jupyter": {
     "outputs_hidden": false
    }
   },
   "outputs": [],
   "source": [
    "authenticator = IAMAuthenticator(apikey_lt)\n",
    "language_translator = LanguageTranslatorV3(version=version_lt,authenticator=authenticator)\n",
    "language_translator.set_service_url(url_lt)\n",
    "language_translator"
   ]
  },
  {
   "cell_type": "markdown",
   "metadata": {},
   "source": [
    "<p>Podemos obtener una lista del idioma que el servicio puede identificar. El método regresa un código que identifica al idioma. Por ejemplo Inglés (en) a Spanish (es) y el nombre de cada idioma.</p>\n"
   ]
  },
  {
   "cell_type": "code",
   "execution_count": null,
   "metadata": {
    "collapsed": false,
    "jupyter": {
     "outputs_hidden": false
    }
   },
   "outputs": [],
   "source": [
    "from pandas.io.json import json_normalize\n",
    "\n",
    "json_normalize(language_translator.list_identifiable_languages().get_result(), \"languages\")"
   ]
  },
  {
   "cell_type": "markdown",
   "metadata": {},
   "source": [
    "<p>Podemos usar le método <code>translate</code> para que traduzca el texto. El parámetro text será el texto. Model_id es el tipo de modelo que nos gustaría usar. En este caso, lo configuraremos para ‘en-es’ o Inglés a Español. Obtendremos un objeto tipo Detailed Response <code>translation_response</code>.</p>\n"
   ]
  },
  {
   "cell_type": "code",
   "execution_count": null,
   "metadata": {
    "collapsed": false,
    "jupyter": {
     "outputs_hidden": false
    }
   },
   "outputs": [],
   "source": [
    "translation_response = language_translator.translate(\\\n",
    "    text=recognized_text, model_id='en-es')\n",
    "translation_response"
   ]
  },
  {
   "cell_type": "markdown",
   "metadata": {},
   "source": [
    "<p>El resultado es un diccionario.</p>\n"
   ]
  },
  {
   "cell_type": "code",
   "execution_count": null,
   "metadata": {
    "collapsed": false,
    "jupyter": {
     "outputs_hidden": false
    }
   },
   "outputs": [],
   "source": [
    "translation=translation_response.get_result()\n",
    "translation"
   ]
  },
  {
   "cell_type": "markdown",
   "metadata": {},
   "source": [
    "<p>Podemos obtener la traducción como tipo cadena de la siguiente manera:</p>\n"
   ]
  },
  {
   "cell_type": "code",
   "execution_count": null,
   "metadata": {},
   "outputs": [],
   "source": [
    "spanish_translation =translation['translations'][0]['translation']\n",
    "spanish_translation "
   ]
  },
  {
   "cell_type": "markdown",
   "metadata": {},
   "source": [
    "<p>Podemos traducir de regreso al idioma inglés</p>\n"
   ]
  },
  {
   "cell_type": "code",
   "execution_count": null,
   "metadata": {},
   "outputs": [],
   "source": [
    "translation_new = language_translator.translate(text=spanish_translation ,model_id='es-en').get_result()"
   ]
  },
  {
   "cell_type": "markdown",
   "metadata": {},
   "source": [
    "<p>Podemos obtener la traducción como tipo cadena de la siguiente manera:</p>\n"
   ]
  },
  {
   "cell_type": "code",
   "execution_count": null,
   "metadata": {},
   "outputs": [],
   "source": [
    "translation_eng=translation_new['translations'][0]['translation']\n",
    "translation_eng"
   ]
  },
  {
   "cell_type": "markdown",
   "metadata": {},
   "source": [
    "<p>Podemos traducirlo al idioma frances también:</p>\n"
   ]
  },
  {
   "cell_type": "code",
   "execution_count": null,
   "metadata": {},
   "outputs": [],
   "source": [
    "French_translation=language_translator.translate(\n",
    "    text=translation_eng , model_id='en-fr').get_result()"
   ]
  },
  {
   "cell_type": "code",
   "execution_count": null,
   "metadata": {},
   "outputs": [],
   "source": [
    "French_translation['translations'][0]['translation']"
   ]
  },
  {
   "cell_type": "markdown",
   "metadata": {},
   "source": [
    "<h3>Traductor de Idiomas</h3>\n"
   ]
  },
  {
   "cell_type": "markdown",
   "metadata": {},
   "source": [
    "<a href=\"http://cocl.us/NotebooksPython101bottom?utm_medium=Exinfluencer&utm_source=Exinfluencer&utm_content=000026UJ&utm_term=10006555&utm_id=NA-SkillsNetwork-Channel-SkillsNetworkCoursesIBMPY0101ESCoursera33499022-2022-01-01\"><img src=\"https://ibm.box.com/shared/static/irypdxea2q4th88zu1o1tsd06dya10go.png\" width=\"750\" align=\"center\"></a>\n"
   ]
  },
  {
   "cell_type": "markdown",
   "metadata": {},
   "source": [
    "<b>Referencias</b>\n"
   ]
  },
  {
   "cell_type": "markdown",
   "metadata": {},
   "source": [
    "[https://cloud.ibm.com/apidocs/speech-to-text?code=python](https://cloud.ibm.com/apidocs/speech-to-text?utm_medium=Exinfluencer&utm_source=Exinfluencer&utm_content=000026UJ&utm_term=10006555&utm_id=NA-SkillsNetwork-Channel-SkillsNetworkCoursesIBMPY0101ESCoursera33499022-2022-01-01&code=python)\n"
   ]
  },
  {
   "cell_type": "markdown",
   "metadata": {},
   "source": [
    "[https://cloud.ibm.com/apidocs/language-translator?code=python](https://cloud.ibm.com/apidocs/language-translator?utm_medium=Exinfluencer&utm_source=Exinfluencer&utm_content=000026UJ&utm_term=10006555&utm_id=NA-SkillsNetwork-Channel-SkillsNetworkCoursesIBMPY0101ESCoursera33499022-2022-01-01&code=python)\n"
   ]
  },
  {
   "cell_type": "markdown",
   "metadata": {},
   "source": [
    "<hr>\n"
   ]
  },
  {
   "cell_type": "markdown",
   "metadata": {},
   "source": [
    "<h4>Acerca del Autor:</h4>\n",
    "<p><a href=\"https://www.linkedin.com/in/joseph-s-50398b136/?utm_medium=Exinfluencer&utm_source=Exinfluencer&utm_content=000026UJ&utm_term=10006555&utm_id=NA-SkillsNetwork-Channel-SkillsNetworkCoursesIBMPY0101ESCoursera33499022-2022-01-01\">Joseph Santarcangelo</a> posee un doctorado en Ingeniería Eléctrica. Su trabajo de investigación se centra en el uso de Aprendizaje Automático (Machine Learning), Procesamiento de Señales y Visión Artificial para determinar el impacto de los videos en el proceso cognitivo. Joseph trabaja en IBM desde la terminación de su doctorado.</p>\n"
   ]
  },
  {
   "cell_type": "markdown",
   "metadata": {},
   "source": [
    "Otros colaboradores: <a href=\"https://www.linkedin.com/in/fanjiang0619/?utm_medium=Exinfluencer&utm_source=Exinfluencer&utm_content=000026UJ&utm_term=10006555&utm_id=NA-SkillsNetwork-Channel-SkillsNetworkCoursesIBMPY0101ESCoursera33499022-2022-01-01\">Fan Jiang</a>\n"
   ]
  },
  {
   "cell_type": "markdown",
   "metadata": {},
   "source": [
    "Copyright © 2019 [cognitiveclass.ai](https\\:cognitiveclass.ai). This notebook and its source code are released under the terms of the [MIT License](https://cognitiveclass.ai/?utm_medium=Exinfluencer&utm_source=Exinfluencer&utm_content=000026UJ&utm_term=10006555&utm_id=NA-SkillsNetwork-Channel-SkillsNetworkCoursesIBMPY0101ESCoursera33499022-2022-01-01).\n"
   ]
  }
 ],
 "metadata": {
  "kernelspec": {
   "display_name": "Python 3",
   "language": "python",
   "name": "python3"
  },
  "language_info": {
   "codemirror_mode": {
    "name": "ipython",
    "version": 3
   },
   "file_extension": ".py",
   "mimetype": "text/x-python",
   "name": "python",
   "nbconvert_exporter": "python",
   "pygments_lexer": "ipython3",
   "version": "3.10.4"
  },
  "vscode": {
   "interpreter": {
    "hash": "1ab87f51ca78d66edd2c36b6e96a4d48a75fda95058fe33c3e614b1f80132588"
   }
  }
 },
 "nbformat": 4,
 "nbformat_minor": 4
}
